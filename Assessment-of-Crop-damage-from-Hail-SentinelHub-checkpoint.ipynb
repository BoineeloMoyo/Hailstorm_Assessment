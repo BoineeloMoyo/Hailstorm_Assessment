{
 "cells": [
  {
   "cell_type": "markdown",
   "id": "4d5d3533",
   "metadata": {},
   "source": [
    "# Created by: Boineelo Moyo "
   ]
  },
  {
   "cell_type": "code",
   "execution_count": 1,
   "id": "db74ffbe",
   "metadata": {},
   "outputs": [],
   "source": [
    "# !pip install ipyleaflet==0.17.0"
   ]
  },
  {
   "cell_type": "code",
   "execution_count": 1,
   "id": "4479f3b4",
   "metadata": {},
   "outputs": [],
   "source": [
    "import geemap\n",
    "import ee\n",
    "import matplotlib.pyplot as plt\n",
    "import numpy as np\n",
    "from scipy.stats import norm, gamma, f, chi2\n",
    "import IPython.display as disp\n",
    "%matplotlib inline\n",
    "\n",
    "from ipyleaflet import SplitMapControl"
   ]
  },
  {
   "cell_type": "code",
   "execution_count": 6,
   "id": "8beccd9f",
   "metadata": {},
   "outputs": [],
   "source": [
    "# ee.Authenticate()\n",
    "# ee.Initialize()"
   ]
  },
  {
   "cell_type": "markdown",
   "id": "582578b1",
   "metadata": {},
   "source": [
    "### Defining constants"
   ]
  },
  {
   "cell_type": "code",
   "execution_count": 7,
   "id": "80b19ab3",
   "metadata": {},
   "outputs": [],
   "source": [
    "def init_map ():\n",
    "    Map = geemap.Map(center = (49.63, -106.03), zoom = 12)\n",
    "    Map.add_basemap('HYBRID')\n",
    "    return Map"
   ]
  },
  {
   "cell_type": "code",
   "execution_count": 8,
   "id": "fce88422",
   "metadata": {},
   "outputs": [],
   "source": [
    "def maskS2clouds(image):\n",
    "  qa = image.select('QA60')\n",
    "  cloudBitMask = 1 << 10\n",
    "  cirrusBitMask = 1 << 11\n",
    "  mask = qa.bitwiseAnd(cloudBitMask).eq(0).And(\n",
    "             qa.bitwiseAnd(cirrusBitMask).eq(0))\n",
    "  return image.updateMask(mask).select(\"B.*\")\n",
    "# Map.user_rois.getInfo();"
   ]
  },
  {
   "cell_type": "code",
   "execution_count": 9,
   "id": "fa5d8fe7",
   "metadata": {},
   "outputs": [],
   "source": [
    "Map = init_map()\n",
    "vis_param = {\n",
    "    'bands': [\"B4\", \"B3\", \"B2\"],\n",
    "    'min': 0,\n",
    "    'max': 3000\n",
    "    };"
   ]
  },
  {
   "cell_type": "markdown",
   "id": "c2064efd",
   "metadata": {},
   "source": [
    "### Define Area of Interest (aoi) and add the ImageCollection of the Surface Reflectance data"
   ]
  },
  {
   "cell_type": "code",
   "execution_count": 10,
   "id": "9fdfa10e",
   "metadata": {},
   "outputs": [],
   "source": [
    "aoi = ee.Geometry.Polygon([[[-106.212157, 49.548808],\n",
    "      [-106.212157, 49.724216],\n",
    "      [-105.887035, 49.724216],\n",
    "      [-105.887035, 49.548808],\n",
    "      [-106.212157, 49.548808]]]);\n",
    "\n",
    "data = ee.ImageCollection(\"COPERNICUS/S2_SR\").filterBounds(aoi)"
   ]
  },
  {
   "cell_type": "markdown",
   "id": "d3bf21d4",
   "metadata": {},
   "source": [
    "# 1.  Visualising the two images from before and after hail in True Color Combinations\n",
    "        The impact of the hailstorm can be observed by using the swiping tool in the code and comparing the before and after   images"
   ]
  },
  {
   "cell_type": "code",
   "execution_count": 11,
   "id": "c5d98cb7",
   "metadata": {},
   "outputs": [],
   "source": [
    "image1 = ee.Image(data.filterDate(\"2020-07-01\", \"2020-07-03\").sort(\"CLOUD_COVERAGE_ASSESSMENT\").first());\n",
    "# image1 = ee.Image(data.filterDate(\"2020-07-01\", \"2020-07-03\").map(maskS2clouds).select('B.*'));\n",
    "image2 = ee.Image(data.filterDate(\"2020-07-04\", \"2020-07-10\").sort(\"CLOUD_COVERAGE_ASSESSMENT\").first());"
   ]
  },
  {
   "cell_type": "code",
   "execution_count": 12,
   "id": "581288ca",
   "metadata": {},
   "outputs": [
    {
     "data": {
      "application/vnd.jupyter.widget-view+json": {
       "model_id": "558eacf9542a4b04ac58b021a6dd1b8c",
       "version_major": 2,
       "version_minor": 0
      },
      "text/plain": [
       "Map(center=[49.63, -106.03], controls=(WidgetControl(options=['position', 'transparent_bg'], widget=HBox(child…"
      ]
     },
     "metadata": {},
     "output_type": "display_data"
    }
   ],
   "source": [
    "left_layer = geemap.ee_tile_layer(image1, vis_param, 'Pre Hail True Color')\n",
    "right_layer = geemap.ee_tile_layer(image2, vis_param, 'Post Hail True Color')\n",
    "control = SplitMapControl(left_layer=left_layer, right_layer=right_layer)\n",
    "\n",
    "Map.add_control(control)\n",
    "Map"
   ]
  },
  {
   "cell_type": "code",
   "execution_count": 13,
   "id": "f385b229",
   "metadata": {
    "scrolled": true
   },
   "outputs": [],
   "source": [
    "# left_layer = geemap.ee_tile_layer(image1, vis_param, 'Pre Hail True Color')\n",
    "# right_layer = geemap.ee_tile_layer(image2, vis_param, 'Post Hail True Color')\n",
    "# Map.split_map(left_layer, right_layer)\n",
    "# Map"
   ]
  },
  {
   "cell_type": "markdown",
   "id": "8d6b4819",
   "metadata": {},
   "source": [
    "## 2.  Remote Sensing Indices used to detect Hail damages\n",
    "    ## 1. NDVI -: Research shows one of the widely used indices to assess hailstorm damages on crops is NDVI. By using the  splitting tool on the map below, changes on the NDVI profiles of the crops in the study region (both before and after the hail event) can be observed.\n",
    "\n",
    "    ## 2. MSI -: The Moisture Stress Index measures healthy moisture using the NIR and SWIR channels. It was used in this context to examine the canopy stress. The values of this index normaly ranges from 0 to more than 3 (Ceccato, P., et al, (2001)), however, to highlight the changes between the two event timeframes, the values were normalised to range from 0 to 1. Thus, higher values of the index indicate greater plant water stress and in inference, less soil moisture content. \n",
    "    \n",
    "    ## 3. NDMI -: The Normalized Difference Moisture Index was used to compliment the NDVI changes by determining the vegetation water content for before and after the hailstorm. The objective was to efficiently enhance the water information that can help determine the damage intensity of the storm in the study area. More often NDMI is compared to NDWI, however the NDMI makes use of the NIR-SWIR combination to enhance the presence of water in leaves of plants, wich is why it was preferred for this study. High water content on crops leads to wilting,.\n",
    "    "
   ]
  },
  {
   "cell_type": "markdown",
   "id": "13cee409",
   "metadata": {},
   "source": [
    "### 2.1 Calculate NDVI for both events: NIR(Band8) - Red(Band4) / NIR(Band8) + Red(Band4)\n",
    "        Darkgreen and black represents vigorous healthy vegetation as shown on the colorbar"
   ]
  },
  {
   "cell_type": "code",
   "execution_count": 14,
   "id": "d0a07f4c",
   "metadata": {},
   "outputs": [],
   "source": [
    "ndvi_vis = {\n",
    "    \"min\":0,\n",
    "    \"max\":1,\n",
    "    \"palette\":['blue', 'yellow', 'green', 'darkgreen', 'black']\n",
    "    }\n",
    "NDVI_pre =image1.expression(\n",
    "\"(NIR - RED) / (NIR + RED)\",\n",
    "{\"NIR\":image1.select(\"B8\"),\n",
    "\"RED\":image1.select(\"B4\")});\n",
    "\n",
    "NDVI_post =image2.expression(\n",
    "\"(NIR - RED) / (NIR + RED)\",\n",
    "{\"NIR\":image2.select(\"B8\"),\n",
    "\"RED\":image2.select(\"B4\")});"
   ]
  },
  {
   "cell_type": "code",
   "execution_count": 16,
   "id": "7621d65f",
   "metadata": {},
   "outputs": [
    {
     "data": {
      "application/vnd.jupyter.widget-view+json": {
       "model_id": "7051ab6961874d889fe268fa299db4f5",
       "version_major": 2,
       "version_minor": 0
      },
      "text/plain": [
       "Map(center=[49.63, -106.03], controls=(ZoomControl(options=['position', 'zoom_in_text', 'zoom_in_title', 'zoom…"
      ]
     },
     "metadata": {},
     "output_type": "display_data"
    }
   ],
   "source": [
    "Map = init_map()\n",
    "\n",
    "# Map.addLayer(most_affected, {}, 'Most Affected Area')\n",
    "left_layer = geemap.ee_tile_layer(NDVI_pre, ndvi_vis, 'NDVI Pre')\n",
    "right_layer = geemap.ee_tile_layer(NDVI_post, ndvi_vis, 'NDVI Post')\n",
    "Map.split_map(left_layer, right_layer)\n",
    "Map.add_colorbar(ndvi_vis, label=\"NDVI Threshold\", orientation =\"vertical\")\n",
    "Map"
   ]
  },
  {
   "cell_type": "markdown",
   "id": "8c277f9d",
   "metadata": {},
   "source": [
    "### 2.2. Calculating Leaf Water Content -Moisture Stress Index (MSI) = SWIR(B11) / NIR(B08)\n",
    "    "
   ]
  },
  {
   "cell_type": "code",
   "execution_count": 17,
   "id": "f5bf0968",
   "metadata": {},
   "outputs": [
    {
     "data": {
      "application/vnd.jupyter.widget-view+json": {
       "model_id": "f62f23dec7644de2bdf99961c68eb2cb",
       "version_major": 2,
       "version_minor": 0
      },
      "text/plain": [
       "Map(center=[49.63, -106.03], controls=(ZoomControl(options=['position', 'zoom_in_text', 'zoom_in_title', 'zoom…"
      ]
     },
     "metadata": {},
     "output_type": "display_data"
    }
   ],
   "source": [
    "msi_vis = {\n",
    "    \"min\":0,\n",
    "    \"max\":1,\n",
    "    \"palette\":['blue', 'white','green']\n",
    "}\n",
    "\n",
    "Map = init_map()\n",
    "\n",
    "MSI_pre =image1.expression(\n",
    "\"(SWIR) / (NIR)\",\n",
    "{\"SWIR\":image1.select(\"B11\"),\n",
    "\"NIR\":image1.select(\"B8\")});\n",
    "\n",
    "MSI_post =image2.expression(\n",
    "\"(SWIR) / (NIR)\",\n",
    "{\"SWIR\":image2.select(\"B11\"),\n",
    "\"NIR\":image2.select(\"B8\")});\n",
    "\n",
    "left_layer = geemap.ee_tile_layer(MSI_pre, msi_vis, \"MSI Pre Disaster\")\n",
    "right_layer = geemap.ee_tile_layer(MSI_post, msi_vis, \"MSI Post Disaster\")\n",
    "Map.split_map(left_layer, right_layer)\n",
    "Map.add_colorbar(msi_vis, label=\"MSI Threshold\", orientation =\"vertical\")\n",
    "Map"
   ]
  },
  {
   "cell_type": "markdown",
   "id": "f5796f80",
   "metadata": {},
   "source": [
    "### 2.3. Calculating NDMI = NIR(Band 8) – SWIR(12)) / NIR(Band 8) + SWIR(12))\n",
    "       The NDWI equation using Sentinel-2 = (Green – NIR)/(Green + NIR) was also considered. However the results achieved by this were not representative therefore, justifying the use of the NDMI. "
   ]
  },
  {
   "cell_type": "code",
   "execution_count": 18,
   "id": "0df2b606",
   "metadata": {},
   "outputs": [
    {
     "data": {
      "application/vnd.jupyter.widget-view+json": {
       "model_id": "c7bcb3187cff4a5daf9c92c90e49044b",
       "version_major": 2,
       "version_minor": 0
      },
      "text/plain": [
       "Map(center=[49.63, -106.03], controls=(ZoomControl(options=['position', 'zoom_in_text', 'zoom_in_title', 'zoom…"
      ]
     },
     "metadata": {},
     "output_type": "display_data"
    }
   ],
   "source": [
    "ndmi_vis = {\n",
    "    \"min\":0,\n",
    "    \"max\":1,\n",
    "    \"palette\":['yellow','green','blue']\n",
    "}\n",
    "\n",
    "Map = init_map()\n",
    "\n",
    "NDMI_pre =image1.expression(\n",
    "\"(NIR - SWIR) / (NIR + SWIR)\",\n",
    "{\"NIR\":image1.select(\"B8\"),\n",
    "\"SWIR\":image1.select(\"B12\")});\n",
    "\n",
    "NDMI_post =image2.expression(\n",
    "\"(NIR - SWIR) / (NIR + SWIR)\",\n",
    "{\"NIR\":image2.select(\"B8\"),\n",
    "\"SWIR\":image2.select(\"B12\")});\n",
    "\n",
    "left_layer = geemap.ee_tile_layer(NDMI_pre, ndmi_vis, \"NDMI Pre Disaster\")\n",
    "right_layer = geemap.ee_tile_layer(NDMI_post, ndmi_vis, \"NDMI Post Disaster\")\n",
    "Map.split_map(left_layer, right_layer)\n",
    "Map.add_colorbar(ndmi_vis, label=\"NDMI Threshold\", orientation =\"vertical\")\n",
    "Map\n"
   ]
  },
  {
   "cell_type": "markdown",
   "id": "d49c75d4",
   "metadata": {},
   "source": [
    "# 3. Estimate the Change Detection Metrics "
   ]
  },
  {
   "cell_type": "markdown",
   "id": "a7ca5b5c",
   "metadata": {},
   "source": [
    "### 3.1 Visualise land cover and crop types from the Canada AAFC Annual Crop Inventory \n",
    "The Agriculture and Agri-Food Canada (AAFC) produces the 30m spatial resolution Annual Space-Based Crop Inventory (ACI) maps for Canada  that meets the overall target accuracy of at least 85%. On the basis of the estimated change detection below, the classified map was used to identify different crop types within study area. Please use the inspector tool in the toolbar to identify different landcover classes within the map."
   ]
  },
  {
   "cell_type": "code",
   "execution_count": 19,
   "id": "30d5817a",
   "metadata": {},
   "outputs": [
    {
     "data": {
      "application/vnd.jupyter.widget-view+json": {
       "model_id": "4c548770849d4e8e88b2dd1e78d3625a",
       "version_major": 2,
       "version_minor": 0
      },
      "text/plain": [
       "Map(center=[49.63, -106.03], controls=(WidgetControl(options=['position', 'transparent_bg'], widget=HBox(child…"
      ]
     },
     "metadata": {},
     "output_type": "display_data"
    }
   ],
   "source": [
    "Map = init_map()\n",
    "\n",
    "dataset = ee.ImageCollection('AAFC/ACI')\n",
    "crops = dataset \\\n",
    "    .filter(ee.Filter.date('2019-01-01', '2019-12-31')) \\\n",
    "    .first()\n",
    "Map.addLayer(crops)\n",
    "Map.add_legend(builtin_legend='AAFC/ACI', legend_title='AOI Crop Types')\n",
    "Map"
   ]
  },
  {
   "cell_type": "markdown",
   "id": "e82d9dcf",
   "metadata": {},
   "source": [
    "### NOTE: The Canada AAFC Annual Crop Inventory complete list of crop types: \n",
    "https://developers.google.com/earth-engine/datasets/catalog/AAFC_ACI"
   ]
  },
  {
   "cell_type": "markdown",
   "id": "1e04a0b5",
   "metadata": {},
   "source": [
    "###  3.2. Calculate the DeltaNDVI\n",
    "\n",
    "It was observed that some crop types had minimum responses to the hailstorm and remained slightly unaffected. Refer to inspector tool on the AAFC ACI Map above to verify such crops.  "
   ]
  },
  {
   "cell_type": "code",
   "execution_count": 20,
   "id": "69e20aed",
   "metadata": {},
   "outputs": [
    {
     "data": {
      "application/vnd.jupyter.widget-view+json": {
       "model_id": "b5ebe6b92005458aa2c871c10360b6f1",
       "version_major": 2,
       "version_minor": 0
      },
      "text/plain": [
       "Map(center=[49.63, -106.03], controls=(WidgetControl(options=['position', 'transparent_bg'], widget=HBox(child…"
      ]
     },
     "metadata": {},
     "output_type": "display_data"
    }
   ],
   "source": [
    "Map = init_map()\n",
    "change_threshold = {\n",
    "    \"min\":0,\n",
    "    \"max\":0.7,\n",
    "    \"palette\":['green', 'LimeGreen', 'yellow', 'brown', 'maroon']\n",
    "}\n",
    "diff_NDVI = NDVI_pre.subtract(NDVI_post)\n",
    "Map.addLayer(diff_NDVI, change_threshold, \"Affected Areas\");\n",
    "Map.add_colorbar(change_threshold, label=\"Damages\", orientation =\"vertical\") #, discrete = True\n",
    "Map"
   ]
  },
  {
   "cell_type": "markdown",
   "id": "b4912a40",
   "metadata": {},
   "source": [
    "### 3.3. Calculate the difference in moisture content of the pre and post hailstorm"
   ]
  },
  {
   "cell_type": "code",
   "execution_count": 23,
   "id": "d524ce20",
   "metadata": {},
   "outputs": [
    {
     "data": {
      "application/vnd.jupyter.widget-view+json": {
       "model_id": "a89a4be67cda4883a1187c1ee827f2ea",
       "version_major": 2,
       "version_minor": 0
      },
      "text/plain": [
       "Map(center=[49.63, -106.03], controls=(WidgetControl(options=['position', 'transparent_bg'], widget=HBox(child…"
      ]
     },
     "metadata": {},
     "output_type": "display_data"
    }
   ],
   "source": [
    "Map = init_map()\n",
    "moisture_change = {\n",
    "    \"min\":0,\n",
    "    \"max\":0.6,\n",
    "    \"palette\":['green', 'yellow', 'blue']\n",
    "}\n",
    "diff_ndmi = NDMI_pre.subtract(NDMI_post)\n",
    "# Map = init_map()\n",
    "feature = Map.draw_last_feature\n",
    "# Map.addLayer(most_affected, {}, 'Most Affected Area', shown = True, opacity = 1)\n",
    "Map.addLayer(diff_ndmi, moisture_change, \"Amount of water\");\n",
    "Map.add_colorbar(moisture_change, label=\"Moisture Content\", orientation =\"vertical\") #, discrete = True\n",
    "Map"
   ]
  },
  {
   "cell_type": "markdown",
   "id": "c56b7b50",
   "metadata": {},
   "source": [
    "# 4. Change Detection Validation with Sentinel-1 GRD\n",
    "\n",
    "#### Qualitative SAR analysis.\n",
    "SAR instruments was used as an alternative way to observe and analyze the impacts and changes from intense and severe hailstorm regardless of overpass time and sky conditions. One big advantage of using SAR dataset is that it operates at wavelengths not affected by cloud cover and acquires data both during the night and day, as compared to multispectral imagery SAR data"
   ]
  },
  {
   "cell_type": "code",
   "execution_count": 24,
   "id": "9138c5dd",
   "metadata": {},
   "outputs": [],
   "source": [
    "## SET SAR PARAMETERS\n",
    "polarization = \"VH\";\n",
    "diff_threshold = 1.25;"
   ]
  },
  {
   "cell_type": "code",
   "execution_count": 25,
   "id": "356f6d34",
   "metadata": {},
   "outputs": [
    {
     "data": {
      "application/vnd.jupyter.widget-view+json": {
       "model_id": "38f650a7fdd843d8a8b77c15225a4ee0",
       "version_major": 2,
       "version_minor": 0
      },
      "text/plain": [
       "Map(center=[49.63, -106.03], controls=(ZoomControl(options=['position', 'zoom_in_text', 'zoom_in_title', 'zoom…"
      ]
     },
     "metadata": {},
     "output_type": "display_data"
    }
   ],
   "source": [
    "Map = init_map()\n",
    "\n",
    "collection= ee.ImageCollection('COPERNICUS/S1_GRD') \\\n",
    "  .filter(ee.Filter.eq('instrumentMode','IW')) \\\n",
    "  .filter(ee.Filter.listContains('transmitterReceiverPolarisation', 'VV')) \\\n",
    "  .filter(ee.Filter.Or(ee.Filter.eq('orbitProperties_pass', 'DESCENDING'), ee.Filter.eq('orbitProperties_pass', 'ASCENDING'))) \\\n",
    "  .filter(ee.Filter.eq('resolution_meters',10)) \\\n",
    "  .filterBounds(aoi);\n",
    "#   .select(polarization)\n",
    "\n",
    "##  Select images by predefined dates\n",
    "before = collection.filter(ee.Filter.date('2020-06-01', '2020-07-03'));\n",
    "after = collection.filter(ee.Filter.date('2020-07-04', '2020-07-30'));\n",
    "# print(before)\n",
    "\n",
    "before_hail = before.select('VV').mosaic().clip(aoi);\n",
    "after_hail = after.select('VV').mosaic().clip(aoi);\n",
    "\n",
    "left_layer = geemap.ee_tile_layer(before_hail, {'min':-25, 'max':0},  \"Before Hail\")\n",
    "right_layer = geemap.ee_tile_layer(after_hail, {'min':-25, 'max':0},  \"After Hail\")\n",
    "Map.split_map(left_layer, right_layer)\n",
    "Map"
   ]
  },
  {
   "cell_type": "code",
   "execution_count": 26,
   "id": "14c90e92",
   "metadata": {},
   "outputs": [
    {
     "data": {
      "application/vnd.jupyter.widget-view+json": {
       "model_id": "8bb9c38697844dddae402464002f4d0e",
       "version_major": 2,
       "version_minor": 0
      },
      "text/plain": [
       "Map(center=[49.63, -106.03], controls=(WidgetControl(options=['position', 'transparent_bg'], widget=HBox(child…"
      ]
     },
     "metadata": {},
     "output_type": "display_data"
    }
   ],
   "source": [
    "Map = init_map()\n",
    "hail = before_hail.gt(-17).And(after_hail.lt(-17))\n",
    "hail_mask = hail.updateMask(hail.eq(1)) \n",
    "\n",
    "water_content = before_hail.lt(-17).And(after_hail.lt(-17))\n",
    "water_mask = water_content.updateMask(water_content.eq(1))\n",
    "\n",
    "Map.addLayer(before_hail, {'min':-20, 'max':0},  \"Before Hail\")\n",
    "Map.addLayer(after_hail, {'min':-20, 'max':0},  \"After Hail\")\n",
    "Map.addLayer(hail_mask, {'palette': ['Red']},  \"Hail Inundation\")\n",
    "Map.addLayer(water_mask, {'palette': ['Blue']},  \"Water Availability Before Hail\")\n",
    "\n",
    "Map\n",
    "\n",
    "# QUANTIFY THE DAMAGE AREA IN SQ_M(m2)\n",
    "\n",
    "# print('Total AOI (m2)', aoi.geometry().area().divide(1000))\n",
    "\n",
    "# def cal_area(img):\n",
    "#     pixel_area = img.multiply(ee.Image.pixelArea()).divide(1e6)\n",
    "#     img_area = pixel_area.reduceRegion(\n",
    "#         **{\n",
    "#             'geometry': roi.geometry(),\n",
    "#             'reducer': ee.Reducer.sum(),\n",
    "#             'scale': 1000,\n",
    "#             'maxPixels': 1e12,\n",
    "#         }\n",
    "#     )\n",
    "#     return img.set({'water_area': img_area})\n",
    "\n",
    "# stats = hail_mask.multiply(ee.Image.pixelArea()).divide(1e6)\n",
    "# area = stats.reduceRegion(\n",
    "#     **{\n",
    "#   'reducer': ee.Reducer.sum(),\n",
    "#   'geometry': aoi,\n",
    "#   'scale': 10,\n",
    "#   'maxPixels': 1e13,\n",
    "#   'tileScale': 16\n",
    "# })\n",
    "\n",
    "# # print(stats)\n",
    "# hail_area = ee.Number(stats.get('sum')).divide(1000).round()\n",
    "# print('Affected Area (m2)', hail_area)"
   ]
  },
  {
   "cell_type": "code",
   "execution_count": null,
   "id": "8cf40bdd",
   "metadata": {},
   "outputs": [],
   "source": []
  },
  {
   "cell_type": "code",
   "execution_count": null,
   "id": "e984d7a8",
   "metadata": {},
   "outputs": [],
   "source": []
  }
 ],
 "metadata": {
  "kernelspec": {
   "display_name": "Python 3 (ipykernel)",
   "language": "python",
   "name": "python3"
  },
  "language_info": {
   "codemirror_mode": {
    "name": "ipython",
    "version": 3
   },
   "file_extension": ".py",
   "mimetype": "text/x-python",
   "name": "python",
   "nbconvert_exporter": "python",
   "pygments_lexer": "ipython3",
   "version": "3.10.8"
  }
 }, 
 "nbformat": 4,
 "nbformat_minor": 5
}
